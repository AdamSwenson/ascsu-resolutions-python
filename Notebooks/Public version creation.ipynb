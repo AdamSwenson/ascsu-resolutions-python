{
 "cells": [
  {
   "cell_type": "markdown",
   "id": "12e6a1e3",
   "metadata": {},
   "source": [
    "This contains the tools for publishing a public version of first reading resolutions for "
   ]
  }
 ],
 "metadata": {
  "kernelspec": {
   "display_name": "rezzie-manager",
   "language": "python",
   "name": "rezzie-manager"
  },
  "toc": {
   "base_numbering": 1,
   "nav_menu": {},
   "number_sections": true,
   "sideBar": true,
   "skip_h1_title": false,
   "title_cell": "Table of Contents",
   "title_sidebar": "Contents",
   "toc_cell": false,
   "toc_position": {},
   "toc_section_display": true,
   "toc_window_display": false
  }
 },
 "nbformat": 4,
 "nbformat_minor": 5
}
