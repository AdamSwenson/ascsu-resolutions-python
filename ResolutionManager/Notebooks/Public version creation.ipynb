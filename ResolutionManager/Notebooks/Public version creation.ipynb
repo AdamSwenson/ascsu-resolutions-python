{
 "cells": [
  {
   "cell_type": "markdown",
   "id": "bfea455f",
   "metadata": {},
   "source": [
    "This contains the tools for publishing a public version of first reading resolutions.\n",
    "\n",
    "This should be used after plenary. \n",
    "\n",
    "It will create a folder inside Google Drive labeled 'For campus feedback' with copies of all first reading resolutions"
   ]
  },
  {
   "cell_type": "markdown",
   "id": "05f632cb",
   "metadata": {},
   "source": [
    "https://developers.google.com/docs/api/quickstart/python"
   ]
  },
  {
   "cell_type": "code",
   "execution_count": null,
   "id": "4d8ea692",
   "metadata": {
    "run_control": {
     "marked": true
    }
   },
   "outputs": [],
   "source": [
    "%cd ~/Dropbox/ResolutionManager\n",
    "\n",
    "from ResolutionManager import environment as env\n",
    "from ResolutionManager.API.CredentialsManager import CredentialsManager\n",
    "from ResolutionManager.Repositories.DocumentRepository import DocumentRepository\n",
    "from ResolutionManager.Repositories.FileRepository import FileRepository\n",
    "from ResolutionManager.Repositories.ResolutionTemplateRespository import ResolutionTemplateRepository\n",
    "from ResolutionManager.Repositories.PermissionsRepository import PermissionsRepository\n",
    "import ResolutionManager.executables.make_folders_for_plenary as make_folders\n",
    "import ResolutionManager.executables.copy_first_readings_for_feedback as copy_first_reads\n",
    "import ResolutionManager.executables.create_resolution_from_template as create_resolution\n",
    "from ResolutionManager.Models.Plenaries import Plenary\n",
    "from ResolutionManager.Models.Committees import Committee\n",
    "from ResolutionManager.Models.Resolutions import Resolution\n",
    "import datetime\n",
    "# import environment as env\n"
   ]
  },
  {
   "cell_type": "code",
   "execution_count": null,
   "id": "660e9393",
   "metadata": {},
   "outputs": [],
   "source": [
    "from ResolutionManager.DAO.DAO import MySqlDao\n",
    "from ResolutionManager.Repositories.CommitteeRepository import CommitteeRepository\n",
    "from ResolutionManager.Repositories.PlenaryRepository import PlenaryRepository\n",
    "\n",
    "resolution_id = 11\n"
   ]
  },
  {
   "cell_type": "code",
   "execution_count": null,
   "id": "5ebfc2cd",
   "metadata": {},
   "outputs": [],
   "source": [
    "dao = MySqlDao()\n",
    "committee_repo = CommitteeRepository(dao)\n",
    "plenary_repo = PlenaryRepository(dao)"
   ]
  },
  {
   "cell_type": "code",
   "execution_count": null,
   "id": "fd3f05c1",
   "metadata": {},
   "outputs": [],
   "source": [
    "p = plenary_repo.load_plenary(1)"
   ]
  },
  {
   "cell_type": "code",
   "execution_count": null,
   "id": "f6ffc98f",
   "metadata": {},
   "outputs": [],
   "source": [
    "p.month"
   ]
  },
  {
   "cell_type": "code",
   "execution_count": null,
   "id": "a026bac3",
   "metadata": {},
   "outputs": [],
   "source": [
    "p.formatted_plenary_date()"
   ]
  },
  {
   "cell_type": "code",
   "execution_count": null,
   "id": "279c49fc",
   "metadata": {},
   "outputs": [],
   "source": [
    "p.year"
   ]
  },
  {
   "cell_type": "code",
   "execution_count": null,
   "id": "4340ddfc",
   "metadata": {},
   "outputs": [],
   "source": [
    "d = datetime.date(2023, 5, 7)\n",
    "d.day +1"
   ]
  },
  {
   "cell_type": "code",
   "execution_count": null,
   "id": "2e8e897f",
   "metadata": {},
   "outputs": [],
   "source": [
    "d.strftime(\"%B\")"
   ]
  },
  {
   "cell_type": "code",
   "execution_count": null,
   "id": "fb52ccc8",
   "metadata": {},
   "outputs": [],
   "source": [
    "thursday_date = datetime.date(2023, 5, 7)\n",
    "dao.conn.execute(f\"insert into ascsu.plenaries (thursday_date) values ('{thursday_date}')\")"
   ]
  },
  {
   "cell_type": "code",
   "execution_count": null,
   "id": "4bca5f5f",
   "metadata": {},
   "outputs": [],
   "source": [
    "r = dao.conn.execute(\"select * from ascsu.plenaries\").fetchone()\n",
    "r"
   ]
  },
  {
   "cell_type": "code",
   "execution_count": null,
   "id": "e2773186",
   "metadata": {},
   "outputs": [],
   "source": [
    "import os\n",
    "cwd = os.getcwd()\n",
    "cwd\n"
   ]
  },
  {
   "cell_type": "code",
   "execution_count": null,
   "id": "809a7520",
   "metadata": {},
   "outputs": [],
   "source": [
    "\n",
    "committee_repo.load_committee(3)"
   ]
  },
  {
   "cell_type": "code",
   "execution_count": null,
   "id": "781f9bad",
   "metadata": {},
   "outputs": [],
   "source": [
    "committee_repo.load_sponsor(11)"
   ]
  },
  {
   "cell_type": "code",
   "execution_count": null,
   "id": "684299ce",
   "metadata": {},
   "outputs": [],
   "source": [
    "committee_repo.load_cosponsors(11)"
   ]
  },
  {
   "cell_type": "code",
   "execution_count": null,
   "id": "75107958",
   "metadata": {},
   "outputs": [],
   "source": [
    "def load_committee(conn, committee_id):\n",
    "    c = conn.execute(f\"select * from ascsu.committees where id = {committee_id}\").fetchone()\n",
    "    return Committee(full_name=c.name, abbreviation=c.abbreviation, id=c.id)\n",
    "\n",
    "\n",
    "def load_cosponsors(conn, resolution_id):\n",
    "    cosponsor_ids = conn.execute(f\"select committee_id from ascsu.committee_resolution cr where cr.resolution_id = {resolution_id} and cr.is_cosponsor = 1\").fetchall()\n",
    "    cosponsor_ids = [c[0] for c in cosponsor_ids]\n",
    "    return [load_committee(conn, c) for c in cosponsor_ids]\n",
    "\n",
    "    \n",
    "    \n",
    "load_committee(conn, 3).__dict__\n"
   ]
  },
  {
   "cell_type": "code",
   "execution_count": null,
   "id": "2fbff3b9",
   "metadata": {},
   "outputs": [],
   "source": [
    "load_cosponsors(conn, 11)"
   ]
  },
  {
   "cell_type": "code",
   "execution_count": null,
   "id": "e98aa9d2",
   "metadata": {},
   "outputs": [],
   "source": [
    "for c in cosponsors:\n",
    "    print(c.__dict__)"
   ]
  },
  {
   "cell_type": "code",
   "execution_count": null,
   "id": "05605fe1",
   "metadata": {},
   "outputs": [],
   "source": [
    "r = conn.execute(f\"select * from committees\")\n"
   ]
  },
  {
   "cell_type": "code",
   "execution_count": null,
   "id": "266d8f6d",
   "metadata": {},
   "outputs": [],
   "source": [
    "r.fetchall()"
   ]
  },
  {
   "cell_type": "code",
   "execution_count": null,
   "id": "9d26417e",
   "metadata": {},
   "outputs": [],
   "source": [
    "for a in r.fetchall():\n",
    "    print(a)"
   ]
  },
  {
   "cell_type": "code",
   "execution_count": null,
   "id": "f9000718",
   "metadata": {},
   "outputs": [],
   "source": [
    "for a in r:\n",
    "    print(r['id'])"
   ]
  },
  {
   "cell_type": "code",
   "execution_count": null,
   "id": "3909e433",
   "metadata": {
    "run_control": {
     "marked": true
    }
   },
   "outputs": [],
   "source": [
    "resolution_name = \"Opposing the existence of the CO\"\n",
    "resolution_number = 3456\n",
    "committee = Committee('Faculty Affairs', 'FA')\n",
    "cosponsors = [ Committee('Academic Affairs', 'AA')]\n",
    "resolution = Resolution(number=resolution_number, title=resolution_name, committee=committee, cosponsors=cosponsors)\n",
    "\n",
    "plenary = Plenary(thursday_date='2023-01-04',\n",
    "                      first_reading_folder_id='1sv_4BUV5fk6Kcjss8HeSCJWnsLZJVpKC',\n",
    "                  plenary_folder_id='1ITs5N1qpTbqVqAhALrxqSsDwiSKsnSj5'\n",
    "                      )\n",
    "# plenary = Plenary(year=2023,\n",
    "#                       month='September',\n",
    "#                       thursday_date=12,\n",
    "#                       friday_date=14,\n",
    "#                       first_reading_folder_id='1sv_4BUV5fk6Kcjss8HeSCJWnsLZJVpKC',\n",
    "#                   plenary_folder_id='1ITs5N1qpTbqVqAhALrxqSsDwiSKsnSj5'\n",
    "#                       )"
   ]
  },
  {
   "cell_type": "code",
   "execution_count": null,
   "id": "af6e5890",
   "metadata": {
    "run_control": {
     "marked": true
    }
   },
   "outputs": [],
   "source": [
    "doc_repo = DocumentRepository()\n",
    "file_repo = FileRepository()\n"
   ]
  },
  {
   "cell_type": "code",
   "execution_count": null,
   "id": "50cfda98",
   "metadata": {
    "run_control": {
     "marked": true
    }
   },
   "outputs": [],
   "source": [
    "committees = [ ('Academic Affairs', 'AA'), ('Academic Prep', 'APEP'), \n",
    "              ('Executive Committee', 'Exec'),('Faculty Affairs', 'FA'), \n",
    "              ('Fiscal and Governmental Affairs', 'FGA'), ('Justice, Equity, Diversity, and Inclusion', 'JEDI')]\n",
    "committees = [Committee(c[0], c[1]) for c in committees]"
   ]
  },
  {
   "cell_type": "code",
   "execution_count": null,
   "id": "73f3d85a",
   "metadata": {},
   "outputs": [],
   "source": [
    "k = file_repo.list_files(folder_id=plenary.first_reading_folder_id)\n"
   ]
  },
  {
   "cell_type": "code",
   "execution_count": null,
   "id": "518db3b6",
   "metadata": {},
   "outputs": [],
   "source": [
    "k"
   ]
  },
  {
   "cell_type": "code",
   "execution_count": null,
   "id": "d8ffc1d2",
   "metadata": {},
   "outputs": [],
   "source": []
  },
  {
   "cell_type": "markdown",
   "id": "9ceab34a",
   "metadata": {},
   "source": [
    "# Build folder structure for plenaries"
   ]
  },
  {
   "cell_type": "code",
   "execution_count": null,
   "id": "bb06ec47",
   "metadata": {
    "deletable": false,
    "editable": false,
    "run_control": {
     "frozen": true
    }
   },
   "outputs": [],
   "source": [
    "make_folders.main(plenary)"
   ]
  },
  {
   "cell_type": "code",
   "execution_count": null,
   "id": "6e182969",
   "metadata": {
    "deletable": false,
    "editable": false,
    "run_control": {
     "frozen": true
    }
   },
   "outputs": [],
   "source": [
    "plenary2 = Plenary(year=2023,\n",
    "                      month='December',\n",
    "                      thursday_date=14,\n",
    "                      friday_date=15)\n",
    "plenary2 = make_folders.main(plenary2)\n",
    "plenary2.__dict__"
   ]
  },
  {
   "cell_type": "code",
   "execution_count": null,
   "id": "1753ee61",
   "metadata": {},
   "outputs": [],
   "source": []
  },
  {
   "cell_type": "markdown",
   "id": "a974842b",
   "metadata": {},
   "source": [
    "# Create resolution"
   ]
  },
  {
   "cell_type": "code",
   "execution_count": null,
   "id": "13c3b7e0",
   "metadata": {},
   "outputs": [],
   "source": [
    "resolution_name = \"Opposing the existence of the CO\"\n",
    "resolution_number = 3456\n",
    "committee = Committee('Faculty Affairs', 'FA')\n",
    "cosponsors = [ Committee('Academic Affairs', 'AA')]\n",
    "resolution = Resolution(number=resolution_number, title=resolution_name, committee=committee, cosponsors=cosponsors)\n",
    "\n",
    "create_resolution.main(plenary=plenary, resolution=resolution)"
   ]
  },
  {
   "cell_type": "code",
   "execution_count": null,
   "id": "b3dca5c1",
   "metadata": {},
   "outputs": [],
   "source": []
  },
  {
   "cell_type": "markdown",
   "id": "96daa6e3",
   "metadata": {},
   "source": [
    "# Create public feedback versions"
   ]
  },
  {
   "cell_type": "code",
   "execution_count": null,
   "id": "0e0a8211",
   "metadata": {},
   "outputs": [],
   "source": [
    "copy_first_reads.main(plenary)"
   ]
  },
  {
   "cell_type": "code",
   "execution_count": null,
   "id": "715ffb5a",
   "metadata": {},
   "outputs": [],
   "source": []
  },
  {
   "cell_type": "code",
   "execution_count": null,
   "id": "e5a8e205",
   "metadata": {},
   "outputs": [],
   "source": []
  },
  {
   "cell_type": "markdown",
   "id": "9df15b37",
   "metadata": {},
   "source": [
    "# Permission management"
   ]
  },
  {
   "cell_type": "code",
   "execution_count": null,
   "id": "8e43ad87",
   "metadata": {},
   "outputs": [],
   "source": [
    "fid = '1tYVZaK0Naaekhj6f4phj7xF4XVIIn5bUF6aJI6SKSZM' #test 8\n",
    "# fid = '1sv_4BUV5fk6Kcjss8HeSCJWnsLZJVpKC' #first read folder\n",
    "permission_repo = PermissionsRepository()\n"
   ]
  },
  {
   "cell_type": "code",
   "execution_count": null,
   "id": "14bd8823",
   "metadata": {},
   "outputs": [],
   "source": [
    "# make editable\n",
    "for f in file_repo.list_files(folder_id=plenary.first_reading_folder_id):\n",
    "    permission_repo.make_world_writable(f['id'])"
   ]
  },
  {
   "cell_type": "code",
   "execution_count": null,
   "id": "65bd81cb",
   "metadata": {},
   "outputs": [],
   "source": [
    "#make readable\n",
    "for f in file_repo.list_files(folder_id=plenary.first_reading_folder_id):\n",
    "    permission_repo.make_world_readable(f['id'])"
   ]
  },
  {
   "cell_type": "code",
   "execution_count": null,
   "id": "e098aa21",
   "metadata": {},
   "outputs": [],
   "source": []
  },
  {
   "cell_type": "code",
   "execution_count": null,
   "id": "a40062ac",
   "metadata": {},
   "outputs": [],
   "source": []
  },
  {
   "cell_type": "code",
   "execution_count": null,
   "id": "20c6ed80",
   "metadata": {},
   "outputs": [],
   "source": []
  },
  {
   "cell_type": "code",
   "execution_count": null,
   "id": "9526d8cf",
   "metadata": {},
   "outputs": [],
   "source": []
  },
  {
   "cell_type": "code",
   "execution_count": null,
   "id": "f6cf5acf",
   "metadata": {},
   "outputs": [],
   "source": []
  },
  {
   "cell_type": "code",
   "execution_count": null,
   "id": "0624199b",
   "metadata": {},
   "outputs": [],
   "source": [
    "permission_repo.remove_world_readable(fid)"
   ]
  },
  {
   "cell_type": "code",
   "execution_count": null,
   "id": "26889a07",
   "metadata": {},
   "outputs": [],
   "source": [
    "permission_repo.get_permission(fid)"
   ]
  },
  {
   "cell_type": "code",
   "execution_count": null,
   "id": "73711c56",
   "metadata": {},
   "outputs": [],
   "source": []
  },
  {
   "cell_type": "code",
   "execution_count": null,
   "id": "f15a8c4d",
   "metadata": {},
   "outputs": [],
   "source": []
  },
  {
   "cell_type": "code",
   "execution_count": null,
   "id": "cacbb9d4",
   "metadata": {},
   "outputs": [],
   "source": []
  },
  {
   "cell_type": "code",
   "execution_count": null,
   "id": "8317dc3f",
   "metadata": {},
   "outputs": [],
   "source": [
    "permission_repo.get_sharing_link(fid)"
   ]
  },
  {
   "cell_type": "code",
   "execution_count": null,
   "id": "445efebf",
   "metadata": {},
   "outputs": [],
   "source": []
  },
  {
   "cell_type": "code",
   "execution_count": null,
   "id": "2a50f026",
   "metadata": {},
   "outputs": [],
   "source": []
  },
  {
   "cell_type": "code",
   "execution_count": null,
   "id": "fea8f289",
   "metadata": {},
   "outputs": [],
   "source": []
  },
  {
   "cell_type": "code",
   "execution_count": null,
   "id": "1574685b",
   "metadata": {},
   "outputs": [],
   "source": []
  },
  {
   "cell_type": "code",
   "execution_count": null,
   "id": "a3a47df1",
   "metadata": {},
   "outputs": [],
   "source": []
  },
  {
   "cell_type": "code",
   "execution_count": null,
   "id": "e1ff7b17",
   "metadata": {},
   "outputs": [],
   "source": []
  },
  {
   "cell_type": "markdown",
   "id": "76e59ea4",
   "metadata": {},
   "source": [
    "# display"
   ]
  },
  {
   "cell_type": "code",
   "execution_count": null,
   "id": "7fcf8e5b",
   "metadata": {
    "run_control": {
     "marked": false
    }
   },
   "outputs": [],
   "source": [
    "from ResolutionManager.Widgets.InputFields import make_text_input, make_selection_button\n",
    "from IPython.display import display\n",
    "from ipywidgets import Layout, widgets, HBox, VBox, Label\n"
   ]
  },
  {
   "cell_type": "code",
   "execution_count": null,
   "id": "d347be90",
   "metadata": {},
   "outputs": [],
   "source": [
    "class ControlStore(object):\n",
    "    \n",
    "    def __init__(self):\n",
    "        self.resolution = Resolution()\n",
    "        \n",
    "    @property\n",
    "    def sponsor(self):\n",
    "        return self.resolution.committee\n",
    "    \n",
    "    @sponsor.setter\n",
    "    def sponsor(self, committee):\n",
    "        self.resolution.committee = committee\n",
    "    \n",
    "    @property\n",
    "    def cosponsors(self):\n",
    "        return self.resolution.cosponsors\n",
    "    \n",
    "    @cosponsors.setter\n",
    "    def cosponsors(self, cosponsors):\n",
    "        self.resolution.cosponsors = cosponsors\n",
    "            \n",
    "    @property\n",
    "    def title(self):\n",
    "        return self.resolution.title\n",
    "    \n",
    "    @title.setter\n",
    "    def title(self, title):\n",
    "        self.resolution.title = title\n",
    "\n",
    "    def get_sponsor(self):\n",
    "        return [self.sponsor]\n",
    "\n",
    "    def add_sponsor(self, committee, kwargs):\n",
    "        print('add')\n",
    "        print(committee)\n",
    "        self.sponsor = committee\n",
    "          \n",
    "    def remove_sponsor(self, committee):\n",
    "        print('remove')\n",
    "        print(committee)\n",
    "        self.sponsor =  None\n",
    "        \n",
    "        \n",
    "    def get_cosponsors(self):\n",
    "        return self.cosponsors\n",
    "    \n",
    "    def add_cosponsors(self, co):\n",
    "        self.cosponsors = co\n",
    "        \n",
    "    def remove_cosponsors(self, c):\n",
    "        self.cosponsors = []\n",
    "    \n",
    "store = ControlStore()"
   ]
  },
  {
   "cell_type": "code",
   "execution_count": null,
   "id": "eafac61c",
   "metadata": {},
   "outputs": [],
   "source": [
    "# sponsoring_committee = None\n",
    "# def get_sponsor():\n",
    "#     return [sponsoring_committee]\n",
    "\n",
    "# def add_sponsor(committee, kwargs):\n",
    "#     sponsoring_committee = committee, kwargs\n",
    "    \n",
    "# def remove_sponsor(committee):\n",
    "#     print(committee)\n",
    "#     sponsoring_committee = None\n",
    "\n",
    "def make_committee_chooser():\n",
    "    buttons = []\n",
    "    for c in committees:\n",
    "        v = {'item_id' : c, 'name' : c.name, 'get_func' : store.get_sponsor, 'add_func': store.add_sponsor, 'remove_func' : store.remove_sponsor}\n",
    "        buttons.append(make_selection_button(**v))\n",
    "    return buttons\n",
    "\n",
    "def make_cosponsor_chooser():\n",
    "    buttons = []\n",
    "    for c in committees:\n",
    "        v = {'item_id' : c, 'name' : c.name, 'get_func' : store.get_cosponsors, 'add_func': store.add_cosponsors, 'remove_func' : store.remove_cosponsors}\n",
    "        buttons.append(make_selection_button(**v))\n",
    "    return buttons\n",
    "\n",
    "def make_waiver():\n",
    "    return widgets.Checkbox(\n",
    "    value=False,\n",
    "    description='Waiver requested',\n",
    "    disabled=False,\n",
    "    indent=False\n",
    ")\n",
    "\n",
    "def make_create_button():\n",
    "    def callback():\n",
    "        create_resolution.main(plenary=plenary, resolution=store.resolution)\n",
    "        print('click')\n",
    "    layout = widgets.Layout( width='75%' )\n",
    "    b = widgets.Button( description=\"Create resolution\", layout=layout, button_style='danger' )\n",
    "    b.on_click(callback)\n",
    "    return b\n",
    "\n",
    "def make_populate_folders_button():\n",
    "    pass\n"
   ]
  },
  {
   "cell_type": "code",
   "execution_count": null,
   "id": "2905bf19",
   "metadata": {},
   "outputs": [],
   "source": [
    "row_layout = Layout( width='100%', padding='10px' )\n",
    "row1 = HBox([Label(\"Resolution title\"), make_text_input({'label': 'Resolution title', 'handler': store.title})], layout=row_layout)\n",
    "row2 = HBox([Label(\"Sponsoring committee\")], layout=row_layout)\n",
    "row3 = VBox(make_committee_chooser(), layout=row_layout)\n",
    "row4 = HBox([Label(\"Cosponsoring committees\")], layout=row_layout)\n",
    "row5 = VBox(make_cosponsor_chooser(), layout=row_layout)\n",
    "row6 = HBox([make_waiver()], layout=row_layout)\n",
    "row7 = VBox([make_create_button()], layout=row_layout)\n",
    "\n",
    "container = VBox([row1, row2, row3, row4, row5, row6, row7], layout=Layout(border='dashed', width='100%'))\n",
    "display(container)\n"
   ]
  },
  {
   "cell_type": "code",
   "execution_count": null,
   "id": "d5b3c221",
   "metadata": {},
   "outputs": [],
   "source": [
    "make_action_button()"
   ]
  },
  {
   "cell_type": "code",
   "execution_count": null,
   "id": "e32e3abc",
   "metadata": {},
   "outputs": [],
   "source": [
    "display(make_action_button())"
   ]
  },
  {
   "cell_type": "code",
   "execution_count": null,
   "id": "97aa1cdc",
   "metadata": {},
   "outputs": [],
   "source": [
    "beep = False\n",
    "def callback(change):\n",
    "    beep =True\n",
    "    print('click')\n",
    "layout = widgets.Layout( width='100%' )\n",
    "b = widgets.Button( description=\"Create resolution\", layout=layout, button_style='danger' )\n",
    "b.on_click(callback)\n",
    "display(b)    "
   ]
  },
  {
   "cell_type": "code",
   "execution_count": null,
   "id": "4a044582",
   "metadata": {},
   "outputs": [],
   "source": [
    "def make_selection_button( item_id, name, get_func, add_func, remove_func, width='50%', **kwargs ):\n"
   ]
  },
  {
   "cell_type": "code",
   "execution_count": null,
   "id": "408b75bd",
   "metadata": {},
   "outputs": [],
   "source": [
    "beep"
   ]
  },
  {
   "cell_type": "code",
   "execution_count": null,
   "id": "259a381c",
   "metadata": {},
   "outputs": [],
   "source": [
    "\n"
   ]
  },
  {
   "cell_type": "code",
   "execution_count": null,
   "id": "3fbd76f2",
   "metadata": {},
   "outputs": [],
   "source": [
    "c.sponsor"
   ]
  },
  {
   "cell_type": "code",
   "execution_count": null,
   "id": "d6d86be8",
   "metadata": {},
   "outputs": [],
   "source": []
  }
 ],
 "metadata": {
  "kernelspec": {
   "display_name": "rezzie-manager",
   "language": "python",
   "name": "rezzie-manager"
  },
  "language_info": {
   "codemirror_mode": {
    "name": "ipython",
    "version": 3
   },
   "file_extension": ".py",
   "mimetype": "text/x-python",
   "name": "python",
   "nbconvert_exporter": "python",
   "pygments_lexer": "ipython3",
   "version": "3.10.12"
  },
  "toc": {
   "base_numbering": 1,
   "nav_menu": {},
   "number_sections": true,
   "sideBar": true,
   "skip_h1_title": false,
   "title_cell": "Table of Contents",
   "title_sidebar": "Contents",
   "toc_cell": false,
   "toc_position": {},
   "toc_section_display": true,
   "toc_window_display": false
  },
  "varInspector": {
   "cols": {
    "lenName": 16,
    "lenType": 16,
    "lenVar": 40
   },
   "kernels_config": {
    "python": {
     "delete_cmd_postfix": "",
     "delete_cmd_prefix": "del ",
     "library": "var_list.py",
     "varRefreshCmd": "print(var_dic_list())"
    },
    "r": {
     "delete_cmd_postfix": ") ",
     "delete_cmd_prefix": "rm(",
     "library": "var_list.r",
     "varRefreshCmd": "cat(var_dic_list()) "
    }
   },
   "types_to_exclude": [
    "module",
    "function",
    "builtin_function_or_method",
    "instance",
    "_Feature"
   ],
   "window_display": false
  }
 },
 "nbformat": 4,
 "nbformat_minor": 5
}
