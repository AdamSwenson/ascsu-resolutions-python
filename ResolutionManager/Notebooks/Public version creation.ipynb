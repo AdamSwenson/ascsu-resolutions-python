{
 "cells": [
  {
   "cell_type": "markdown",
   "id": "bfea455f",
   "metadata": {},
   "source": [
    "This contains the tools for publishing a public version of first reading resolutions.\n",
    "\n",
    "This should be used after plenary. \n",
    "\n",
    "It will create a folder inside Google Drive labeled 'For campus feedback' with copies of all first reading resolutions"
   ]
  },
  {
   "cell_type": "markdown",
   "id": "05f632cb",
   "metadata": {},
   "source": [
    "https://developers.google.com/docs/api/quickstart/python"
   ]
  },
  {
   "cell_type": "code",
   "execution_count": null,
   "id": "3d0a5c79",
   "metadata": {},
   "outputs": [],
   "source": [
    "from googleapiclient.discovery import build"
   ]
  },
  {
   "cell_type": "code",
   "execution_count": null,
   "id": "52970fb8",
   "metadata": {},
   "outputs": [],
   "source": [
    "import os\n",
    "if os.path.exists('../token-1.json'):\n",
    "    print('j')\n"
   ]
  },
  {
   "cell_type": "code",
   "execution_count": null,
   "id": "2ff76f06",
   "metadata": {},
   "outputs": [],
   "source": [
    "\n",
    "import API.CredentialsManager"
   ]
  },
  {
   "cell_type": "code",
   "execution_count": null,
   "id": "233c4769",
   "metadata": {},
   "outputs": [],
   "source": []
  },
  {
   "cell_type": "code",
   "execution_count": null,
   "id": "4d8ea692",
   "metadata": {
    "run_control": {
     "marked": true
    }
   },
   "outputs": [],
   "source": [
    "%cd ~/Dropbox/ResolutionManager\n",
    "\n",
    "from ResolutionManager import environment as env\n",
    "from ResolutionManager.API.CredentialsManager import CredentialsManager\n",
    "from ResolutionManager.Repositories.DocumentRepository import DocumentRepository\n",
    "from ResolutionManager.Repositories.FileRepository import FileRepository\n",
    "from ResolutionManager.Repositories.ResolutionTemplateRespository import ResolutionTemplateRepository\n",
    "import ResolutionManager.executables.make_folders_for_plenary as make_folders\n",
    "import ResolutionManager.executables.copy_first_readings_for_feedback as copy_first_reads\n",
    "import ResolutionManager.executables.create_resolution_from_template as create_resolution\n",
    "from ResolutionManager.Models.Plenaries import Plenary\n",
    "from ResolutionManager.Models.Committees import Committee\n",
    "from ResolutionManager.Models.Resolutions import Resolution\n",
    "\n",
    "# import environment as env\n"
   ]
  },
  {
   "cell_type": "code",
   "execution_count": null,
   "id": "935ddfc1",
   "metadata": {
    "run_control": {
     "marked": true
    }
   },
   "outputs": [],
   "source": [
    "resolution_name = \"Opposing the existence of the CO\"\n",
    "resolution_number = 3456\n",
    "committee = Committee('Faculty Affairs', 'FA')\n",
    "cosponsors = [ Committee('Academic Affairs', 'AA')]\n",
    "resolution = Resolution(number=resolution_number, title=resolution_name, committee=committee, cosponsors=cosponsors)\n",
    "\n",
    "\n",
    "plenary = Plenary(year=2023,\n",
    "                      month='September',\n",
    "                      thursday_date=12,\n",
    "                      friday_date=14,\n",
    "                      first_reading_folder_id='1sv_4BUV5fk6Kcjss8HeSCJWnsLZJVpKC'\n",
    "                      )\n"
   ]
  },
  {
   "cell_type": "code",
   "execution_count": null,
   "id": "212afc01",
   "metadata": {},
   "outputs": [],
   "source": [
    "committee.__dict__"
   ]
  },
  {
   "cell_type": "code",
   "execution_count": null,
   "id": "71d43517",
   "metadata": {},
   "outputs": [],
   "source": [
    "resolution.__dict__"
   ]
  },
  {
   "cell_type": "markdown",
   "id": "aaeca105",
   "metadata": {},
   "source": [
    "# Build folder structure for plenaries"
   ]
  },
  {
   "cell_type": "code",
   "execution_count": null,
   "id": "ec6820e7",
   "metadata": {
    "deletable": false,
    "editable": false,
    "run_control": {
     "frozen": true
    }
   },
   "outputs": [],
   "source": [
    "make_folders.main()"
   ]
  },
  {
   "cell_type": "code",
   "execution_count": null,
   "id": "f365f928",
   "metadata": {},
   "outputs": [],
   "source": []
  },
  {
   "cell_type": "markdown",
   "id": "97e872e1",
   "metadata": {},
   "source": [
    "# Create resolution"
   ]
  },
  {
   "cell_type": "code",
   "execution_count": null,
   "id": "715ab35f",
   "metadata": {},
   "outputs": [],
   "source": [
    "create_resolution.main(plenary=plenary, resolution=resolution)"
   ]
  },
  {
   "cell_type": "code",
   "execution_count": null,
   "id": "050aaff2",
   "metadata": {},
   "outputs": [],
   "source": []
  },
  {
   "cell_type": "markdown",
   "id": "5694c964",
   "metadata": {},
   "source": [
    "# Create public feedback versions"
   ]
  },
  {
   "cell_type": "code",
   "execution_count": null,
   "id": "1fddb354",
   "metadata": {
    "deletable": false,
    "editable": false,
    "run_control": {
     "frozen": true
    }
   },
   "outputs": [],
   "source": [
    "copy_first_reads.main()\n"
   ]
  },
  {
   "cell_type": "code",
   "execution_count": null,
   "id": "dbaed53e",
   "metadata": {},
   "outputs": [],
   "source": []
  },
  {
   "cell_type": "code",
   "execution_count": null,
   "id": "faeca137",
   "metadata": {},
   "outputs": [],
   "source": []
  }
 ],
 "metadata": {
  "kernelspec": {
   "display_name": "rezzie-manager",
   "language": "python",
   "name": "rezzie-manager"
  },
  "language_info": {
   "codemirror_mode": {
    "name": "ipython",
    "version": 3
   },
   "file_extension": ".py",
   "mimetype": "text/x-python",
   "name": "python",
   "nbconvert_exporter": "python",
   "pygments_lexer": "ipython3",
   "version": "3.10.12"
  },
  "toc": {
   "base_numbering": 1,
   "nav_menu": {},
   "number_sections": true,
   "sideBar": true,
   "skip_h1_title": false,
   "title_cell": "Table of Contents",
   "title_sidebar": "Contents",
   "toc_cell": false,
   "toc_position": {},
   "toc_section_display": true,
   "toc_window_display": false
  },
  "varInspector": {
   "cols": {
    "lenName": 16,
    "lenType": 16,
    "lenVar": 40
   },
   "kernels_config": {
    "python": {
     "delete_cmd_postfix": "",
     "delete_cmd_prefix": "del ",
     "library": "var_list.py",
     "varRefreshCmd": "print(var_dic_list())"
    },
    "r": {
     "delete_cmd_postfix": ") ",
     "delete_cmd_prefix": "rm(",
     "library": "var_list.r",
     "varRefreshCmd": "cat(var_dic_list()) "
    }
   },
   "types_to_exclude": [
    "module",
    "function",
    "builtin_function_or_method",
    "instance",
    "_Feature"
   ],
   "window_display": false
  }
 },
 "nbformat": 4,
 "nbformat_minor": 5
}
